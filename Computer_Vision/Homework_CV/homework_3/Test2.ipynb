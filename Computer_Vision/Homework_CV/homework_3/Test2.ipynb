{
 "cells": [
  {
   "cell_type": "code",
   "execution_count": 4,
   "metadata": {},
   "outputs": [
    {
     "data": {
      "text/plain": [
       "True"
      ]
     },
     "execution_count": 4,
     "metadata": {},
     "output_type": "execute_result"
    }
   ],
   "source": [
    "from scipy.sparse import lil_matrix\n",
    "from scipy.sparse.linalg import lsqr\n",
    "import enum\n",
    "\n",
    "import numpy as np\n",
    "import cv2 \n",
    "import matplotlib.pyplot as plt\n",
    "\n",
    "%matplotlib inline\n",
    "\n",
    "class Directions(enum.Enum):\n",
    "    UP=(-1, 0)\n",
    "    LEFT=(0, -1)\n",
    "    DOWN=(1, 0)\n",
    "    RIGHT=(0, 1)\n",
    "\n",
    "\n",
    "def generate_sparse_matrix(source, target, mask, alpha):\n",
    "    h, w = target.shape[:2]\n",
    "    N = h * w\n",
    "\n",
    "    A = lil_matrix((N, N))\n",
    "    b = np.zeros(N)\n",
    "\n",
    "    for row in range(h):\n",
    "        for col in range(w):\n",
    "            idx = row * w + col\n",
    "            \n",
    "            if mask[row, col] > 0:\n",
    "                src_grad = compute_gradient(source, row, col)\n",
    "                tgt_grad = compute_gradient(target, row, col)\n",
    "                \n",
    "                b[idx] = alpha * src_grad + (1 - alpha) * tgt_grad\n",
    "                \n",
    "                A[idx, idx] = 4\n",
    "                for dir in Directions:\n",
    "                    if (-1 < row + dir.value[0] < h) and (-1 < col + dir.value[1] < w):\n",
    "                        A[idx, idx + w*dir.value[0] + dir.value[1]] = -1\n",
    "            else:\n",
    "                A[idx, idx] = 1\n",
    "                b[idx] = target[row, col]\n",
    "\n",
    "    return A, b\n",
    "\n",
    "def compute_gradient(image, row, col):\n",
    "    h, w = image.shape[:2]\n",
    "    grad = 4 * image[row, col]\n",
    "    \n",
    "    for dir in Directions:\n",
    "        if (-1 < row + dir.value[0] < h) and (-1 < col + dir.value[1] < w):\n",
    "            grad -= image[row + dir.value[0], col + dir.value[1]]\n",
    "    \n",
    "    return grad\n",
    "\n",
    "def blend_color_channels(source, target, mask, alpha):\n",
    "    blended_image = np.zeros_like(target)\n",
    "    for channel in range(3):\n",
    "        A, b = generate_sparse_matrix(source[:, :, channel], target[:, :, channel], mask, alpha)\n",
    "        blended_channel = lsqr(A, b)[0]\n",
    "        blended_channel[blended_channel > 255] = 255\n",
    "        blended_channel[blended_channel < 0] = 0\n",
    "        blended_channel = blended_channel.astype('uint8')\n",
    "\n",
    "        blended_image[:, :, channel] = blended_channel.reshape(target.shape[:2])\n",
    "    return blended_image\n",
    "\n",
    "source_image = cv2.imread('blending/Ryan.jpg')\n",
    "target_image = cv2.imread('blending/Matycha.jpg')\n",
    "mask_image = cv2.imread('blending/Maska.jpg', cv2.IMREAD_GRAYSCALE)\n",
    "\n",
    "alpha = 0.83\n",
    "blended_image = blend_color_channels(source_image, target_image, mask_image, alpha)\n",
    "\n",
    "\n",
    "# fig, ax = plt.subplots(1, 1, figsize = (12, 8))\n",
    "# ax.axis('off')\n",
    "# ax.imshow(blended_image)\n",
    "# plt.show()\n",
    "cv2.imwrite('blending/blended_image.jpg', blended_image)"
   ]
  }
 ],
 "metadata": {
  "kernelspec": {
   "display_name": "Python 3",
   "language": "python",
   "name": "python3"
  },
  "language_info": {
   "codemirror_mode": {
    "name": "ipython",
    "version": 3
   },
   "file_extension": ".py",
   "mimetype": "text/x-python",
   "name": "python",
   "nbconvert_exporter": "python",
   "pygments_lexer": "ipython3",
   "version": "3.11.5"
  }
 },
 "nbformat": 4,
 "nbformat_minor": 2
}
