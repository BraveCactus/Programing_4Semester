{
 "cells": [
  {
   "cell_type": "markdown",
   "metadata": {},
   "source": [
    "# Homework 4"
   ]
  },
  {
   "cell_type": "markdown",
   "metadata": {},
   "source": [
    "# Задача №1 - Лего детальки\n",
    "\n",
    "Имеется 2 выборки из датасета фотографий лего картинок. Структура одной выборки следующая:\n",
    "```\n",
    "test\n",
    "| -- 'target.jpg'\n",
    "| -- source\n",
    "|    | -- '*.jpg'\n",
    "|           ...\n",
    "|    | -- '*.jpg'\n",
    "```\n",
    "В выборке есть опорное изображение - target.jpg и набор из 20 картинок в папке source.\n",
    "\n",
    "Ваша задача - написать программу, которая прочитает все изображения и определит на каких изображениях из папки source сфотографирована такая же лего деталька, что и деталь в target.jpg\n",
    "\n",
    "Результатом выполнения программы должен быть файлик с названиями подходящих изображений. Пример в Datasets/gt\n",
    "Снизу представлены 2 вспомогательные функции: чтение всех изображений из папки и посчет получившихся метрик точности\n",
    "\n",
    "Результат выполнения данной задачи напрямую зависит от полученных метрик. Полученные метрики будут вычисляться из метрик по двум тестам $Accuracy=min({Accuracy}_{test1}, {Accuracy}_{test2}$)\n",
    "\n",
    "| Accuracy | Recall | % Выполнения |\n",
    "|:--------:|:------:|:------------:|\n",
    "|< 0.6|< 0.4|0%|\n",
    "|  >= 0.6  | >= 0.4 |     75%      |\n",
    "|  >= 0.7  | >= 0.5 |     100%     |\n",
    "|  >= 0.9  | >= 0.8 |     150%     |\n",
    "\n",
    "<table><tr>\n",
    "    <td> <img src=\"Datasets/test1/target.jpg\" alt=\"Drawing\" style=\"width: 400px;\"/> </td>\n",
    "      <td> <img src=\"Datasets/test2/target.jpg\" alt=\"Drawing\" style=\"width: 400px;\"/> </td>\n",
    "\n",
    "</tr></table>"
   ]
  },
  {
   "cell_type": "code",
   "execution_count": null,
   "metadata": {
    "ExecuteTime": {
     "end_time": "2024-10-11T15:15:01.947562Z",
     "start_time": "2024-10-11T15:15:01.928853Z"
    },
    "collapsed": false,
    "jupyter": {
     "outputs_hidden": false
    }
   },
   "outputs": [
    {
     "name": "stdout",
     "output_type": "stream",
     "text": [
      "All paths for test1:\n",
      "['c:\\\\Users\\\\matve\\\\Desktop\\\\Programing_4Semester\\\\Computer_Vision\\\\Homework_CV\\\\homework_4\\\\Datasets\\\\test1\\\\source\\\\00000_2.1_01249.jpg', 'c:\\\\Users\\\\matve\\\\Desktop\\\\Programing_4Semester\\\\Computer_Vision\\\\Homework_CV\\\\homework_4\\\\Datasets\\\\test1\\\\source\\\\00001_1.2_00742.jpg', 'c:\\\\Users\\\\matve\\\\Desktop\\\\Programing_4Semester\\\\Computer_Vision\\\\Homework_CV\\\\homework_4\\\\Datasets\\\\test1\\\\source\\\\00002_1.1_00798.jpg', 'c:\\\\Users\\\\matve\\\\Desktop\\\\Programing_4Semester\\\\Computer_Vision\\\\Homework_CV\\\\homework_4\\\\Datasets\\\\test1\\\\source\\\\00002_2.2_00703.jpg', 'c:\\\\Users\\\\matve\\\\Desktop\\\\Programing_4Semester\\\\Computer_Vision\\\\Homework_CV\\\\homework_4\\\\Datasets\\\\test1\\\\source\\\\00003_2.1_00721.jpg', 'c:\\\\Users\\\\matve\\\\Desktop\\\\Programing_4Semester\\\\Computer_Vision\\\\Homework_CV\\\\homework_4\\\\Datasets\\\\test1\\\\source\\\\00003_2.2_00345.jpg', 'c:\\\\Users\\\\matve\\\\Desktop\\\\Programing_4Semester\\\\Computer_Vision\\\\Homework_CV\\\\homework_4\\\\Datasets\\\\test1\\\\source\\\\00003_2.2_01170.jpg', 'c:\\\\Users\\\\matve\\\\Desktop\\\\Programing_4Semester\\\\Computer_Vision\\\\Homework_CV\\\\homework_4\\\\Datasets\\\\test1\\\\source\\\\00004_2.2_00990.jpg', 'c:\\\\Users\\\\matve\\\\Desktop\\\\Programing_4Semester\\\\Computer_Vision\\\\Homework_CV\\\\homework_4\\\\Datasets\\\\test1\\\\source\\\\00005_1.1_00167.jpg', 'c:\\\\Users\\\\matve\\\\Desktop\\\\Programing_4Semester\\\\Computer_Vision\\\\Homework_CV\\\\homework_4\\\\Datasets\\\\test1\\\\source\\\\00005_2.2_01262.jpg', 'c:\\\\Users\\\\matve\\\\Desktop\\\\Programing_4Semester\\\\Computer_Vision\\\\Homework_CV\\\\homework_4\\\\Datasets\\\\test1\\\\source\\\\00005_3.1_00585.jpg', 'c:\\\\Users\\\\matve\\\\Desktop\\\\Programing_4Semester\\\\Computer_Vision\\\\Homework_CV\\\\homework_4\\\\Datasets\\\\test1\\\\source\\\\00006_2.2_01349.jpg', 'c:\\\\Users\\\\matve\\\\Desktop\\\\Programing_4Semester\\\\Computer_Vision\\\\Homework_CV\\\\homework_4\\\\Datasets\\\\test1\\\\source\\\\00006_3.1_00827.jpg', 'c:\\\\Users\\\\matve\\\\Desktop\\\\Programing_4Semester\\\\Computer_Vision\\\\Homework_CV\\\\homework_4\\\\Datasets\\\\test1\\\\source\\\\00007_3.1_00842.jpg', 'c:\\\\Users\\\\matve\\\\Desktop\\\\Programing_4Semester\\\\Computer_Vision\\\\Homework_CV\\\\homework_4\\\\Datasets\\\\test1\\\\source\\\\00008_1.1_00857.jpg', 'c:\\\\Users\\\\matve\\\\Desktop\\\\Programing_4Semester\\\\Computer_Vision\\\\Homework_CV\\\\homework_4\\\\Datasets\\\\test1\\\\source\\\\00009_3.1_00917.jpg', 'c:\\\\Users\\\\matve\\\\Desktop\\\\Programing_4Semester\\\\Computer_Vision\\\\Homework_CV\\\\homework_4\\\\Datasets\\\\test1\\\\source\\\\00011_1.1_00981.jpg', 'c:\\\\Users\\\\matve\\\\Desktop\\\\Programing_4Semester\\\\Computer_Vision\\\\Homework_CV\\\\homework_4\\\\Datasets\\\\test1\\\\source\\\\00012_1.1_01004.jpg', 'c:\\\\Users\\\\matve\\\\Desktop\\\\Programing_4Semester\\\\Computer_Vision\\\\Homework_CV\\\\homework_4\\\\Datasets\\\\test1\\\\source\\\\00015_1.1_01248.jpg', 'c:\\\\Users\\\\matve\\\\Desktop\\\\Programing_4Semester\\\\Computer_Vision\\\\Homework_CV\\\\homework_4\\\\Datasets\\\\test1\\\\source\\\\00016_3.1_01388.jpg']\n",
      "Example of calculating metrics:\n",
      "Acc: 0.85\n",
      "Recall: 0.25\n"
     ]
    }
   ],
   "source": [
    "from pathlib import Path\n",
    "import cv2\n",
    "import numpy as np\n",
    "import os\n",
    "\n",
    "def read_all_image_paths(folder):\n",
    "    folder = Path(folder)\n",
    "    image_paths = [i.__str__() for i in folder.glob('*.jpg')]\n",
    "    return image_paths\n",
    "\n",
    "def compare_images(target_img, source_img):\n",
    "    \"\"\"Сравнивает два изображения с помощью SIFT и FLANN\"\"\"\n",
    "    if target_img is None or source_img is None:\n",
    "        return 0.0\n",
    "    \n",
    "    # Инициализация детектора SIFT\n",
    "    sift = cv2.SIFT_create()\n",
    "    \n",
    "    # Ищем ключевые точки и дескрипторы\n",
    "    kp1, des1 = sift.detectAndCompute(target_img, None)\n",
    "    kp2, des2 = sift.detectAndCompute(source_img, None)\n",
    "    \n",
    "    if des1 is None or des2 is None or len(kp1) == 0 or len(kp2) == 0:\n",
    "        return 0.0\n",
    "    \n",
    "    # Используем FLANN matcher\n",
    "    FLANN_INDEX_KDTREE = 1\n",
    "    index_params = dict(algorithm=FLANN_INDEX_KDTREE, trees=5)\n",
    "    search_params = dict(checks=50)\n",
    "    \n",
    "    flann = cv2.FlannBasedMatcher(index_params, search_params)\n",
    "    matches = flann.knnMatch(des1, des2, k=2)\n",
    "\n",
    "    threshold = 0.7\n",
    "    good_matches = []\n",
    "    for m, n in matches:\n",
    "        if m.distance < threshold * n.distance:\n",
    "            good_matches.append(m)\n",
    "    \n",
    "    # Оценка похожести\n",
    "    similar = len(good_matches) / min(len(kp1), len(kp2))\n",
    "    return similar\n",
    "\n",
    "def find_matching_images(test_folder, threshold=0.15):\n",
    "    \"\"\"Находит изображения, соответствующие target.jpg\"\"\"\n",
    "    test_folder = Path(test_folder)    \n",
    "    \n",
    "    # Читаем target изображение\n",
    "    target_path = test_folder / 'target.jpg'    \n",
    "    \n",
    "    target_img = cv2.imread(str(target_path), cv2.IMREAD_COLOR)    \n",
    "    \n",
    "    # Читаем все source изображения\n",
    "    source_folder = test_folder / 'source'    \n",
    "    \n",
    "    image_paths = read_all_image_paths(source_folder)\n",
    "    matches = []\n",
    "    \n",
    "    for img_path in image_paths:\n",
    "        source_img = cv2.imread(img_path, cv2.IMREAD_COLOR)\n",
    "        if source_img is None:\n",
    "            continue\n",
    "            \n",
    "        similarity = compare_images(target_img, source_img)\n",
    "        img_name = os.path.basename(img_path)\n",
    "        if similarity >= threshold:\n",
    "            matches.append(img_name)\n",
    "    \n",
    "    return matches\n",
    "\n",
    "def save_results(matches, output_file):\n",
    "    \"\"\"Сохраняет результаты в файл\"\"\"\n",
    "    with open(output_file, 'w') as f:\n",
    "        for match in matches:\n",
    "            f.write(f\"{match}\\n\")\n",
    "\n",
    "\n",
    "def return_metrics(gt_path, prediction_path):\n",
    "    with open(gt_path) as f:\n",
    "        gt = set([i.strip('\\n') for i in f.readlines() if len(i)])\n",
    "    with open(prediction_path) as f:\n",
    "        pred = set([i.strip('\\n') for i in f.readlines() if len(i)])\n",
    "\n",
    "    len_dataset = 20\n",
    "\n",
    "    TP, TN, FP, FN = (0, ) * 4\n",
    "    for i in pred:\n",
    "        if i in gt:\n",
    "            TP += 1\n",
    "            gt.remove(i)\n",
    "        else:\n",
    "            FP += 1\n",
    "    FN = len(gt)\n",
    "    TN = len_dataset - TP - FP - FN\n",
    "\n",
    "    accuracy = (TP + TN) / len_dataset\n",
    "    recall = TP / (TP + FN)\n",
    "\n",
    "    print(f'Acc: {accuracy:.2f}')\n",
    "    print(f'Recall: {recall:.2f}')\n",
    "\n",
    "print('All paths for test1:')\n",
    "images_folder = Path(os.path.abspath('')) / 'Datasets' / 'test1' / 'source'\n",
    "print(read_all_image_paths(images_folder))\n",
    "\n",
    "print('Example of calculating metrics:')\n",
    "gt_test1 = Path(os.path.abspath('')) / 'Datasets' / 'gt' / 'test1.txt'\n",
    "pred = Path(os.path.abspath('')) / 'test1.txt'\n",
    "\n",
    "return_metrics(gt_test1, pred)"
   ]
  },
  {
   "cell_type": "markdown",
   "metadata": {},
   "source": [
    "# Задача №2 - Найти шаблон на изображении с помощью HOG и кросс-корреляции\n",
    "\n",
    "Ваша задача - написать программу, которая сможет найти шаблон одного глаза на нескольких изображениях, в том числе затемненных. Использовать нужно HOG представление изображений, поиск шаблона сделать с помощью кросс-корреляции \n",
    "\n",
    "Изображение глаз человека и шаблон, который нужно на нем найти, находятся в папке hog\n",
    "\n",
    "<table><tr>\n",
    "    <td> <img src=\"hog/eye.png\" alt=\"Drawing\" style=\"width: 400px;\"/> \n",
    "</tr></table>     \n",
    "\n",
    "<table><tr>\n",
    "    <td> <img src=\"hog/eyes.jpg\" alt=\"Drawing\" style=\"width: 400px;\"/> </td>\n",
    "      <td> <img src=\"hog/eyes_dark.jpg\" alt=\"Drawing\" style=\"width: 400px;\"/> </td>\n",
    "      <td> <img src=\"hog/woman.jpg\" alt=\"Drawing\" style=\"width: 200px;\"/> </td>\n",
    "\n",
    "</tr></table>"
   ]
  },
  {
   "cell_type": "code",
   "execution_count": 10,
   "metadata": {},
   "outputs": [],
   "source": [
    "# Ваш код"
   ]
  },
  {
   "cell_type": "code",
   "execution_count": null,
   "metadata": {},
   "outputs": [],
   "source": []
  }
 ],
 "metadata": {
  "hide_input": false,
  "kernelspec": {
   "display_name": "Python 3",
   "language": "python",
   "name": "python3"
  },
  "language_info": {
   "codemirror_mode": {
    "name": "ipython",
    "version": 3
   },
   "file_extension": ".py",
   "mimetype": "text/x-python",
   "name": "python",
   "nbconvert_exporter": "python",
   "pygments_lexer": "ipython3",
   "version": "3.11.5"
  },
  "toc": {
   "base_numbering": 1,
   "nav_menu": {},
   "number_sections": true,
   "sideBar": true,
   "skip_h1_title": false,
   "title_cell": "Table of Contents",
   "title_sidebar": "Contents",
   "toc_cell": false,
   "toc_position": {},
   "toc_section_display": true,
   "toc_window_display": false
  },
  "varInspector": {
   "cols": {
    "lenName": 16,
    "lenType": 16,
    "lenVar": 40
   },
   "kernels_config": {
    "python": {
     "delete_cmd_postfix": "",
     "delete_cmd_prefix": "del ",
     "library": "var_list.py",
     "varRefreshCmd": "print(var_dic_list())"
    },
    "r": {
     "delete_cmd_postfix": ") ",
     "delete_cmd_prefix": "rm(",
     "library": "var_list.r",
     "varRefreshCmd": "cat(var_dic_list()) "
    }
   },
   "types_to_exclude": [
    "module",
    "function",
    "builtin_function_or_method",
    "instance",
    "_Feature"
   ],
   "window_display": false
  }
 },
 "nbformat": 4,
 "nbformat_minor": 4
}
